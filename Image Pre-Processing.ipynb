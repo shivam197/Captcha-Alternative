{
 "cells": [
  {
   "cell_type": "code",
   "execution_count": 1,
   "metadata": {},
   "outputs": [],
   "source": [
    "import numpy as np\n",
    "import tensorflow as tf\n",
    "import pandas as pd\n",
    "import matplotlib.pyplot as plt"
   ]
  },
  {
   "cell_type": "code",
   "execution_count": 103,
   "metadata": {},
   "outputs": [],
   "source": [
    "#Getting Dataset\n",
    "\n",
    "from tensorflow.keras.datasets import mnist\n",
    "(x_train,y_train),(x_test,y_test)=  mnist.load_data()\n",
    "x = np.concatenate((x_train,x_test))\n",
    "y = pd.get_dummies(np.concatenate((y_train,y_test))).values\n",
    "x = x.reshape(x.shape[0],28,28,1)"
   ]
  },
  {
   "cell_type": "code",
   "execution_count": 104,
   "metadata": {},
   "outputs": [],
   "source": [
    "# Rotating Images in dataset\n",
    "X = tf.placeholder(tf.float32,[None,28,28,1])\n",
    "x1 = tf.contrib.image.rotate(X,angles = (3.14/6))\n",
    "x2 = tf.contrib.image.rotate(X,angles = (-3.14/6))"
   ]
  },
  {
   "cell_type": "code",
   "execution_count": 105,
   "metadata": {},
   "outputs": [],
   "source": [
    "with tf.Session() as sess:\n",
    "    x1 = sess.run(x1,{X:x})\n",
    "    x2 = sess.run(x2,{X:x})"
   ]
  },
  {
   "cell_type": "code",
   "execution_count": 106,
   "metadata": {},
   "outputs": [],
   "source": [
    "x = np.concatenate((x,x1,x2))\n",
    "y = np.concatenate((y,y,y))\n",
    "x = x.reshape(x.shape[0],784)\n",
    "dataset = np.concatenate((x,y),axis=1)"
   ]
  },
  {
   "cell_type": "code",
   "execution_count": 109,
   "metadata": {},
   "outputs": [],
   "source": [
    "from sklearn.utils import shuffle\n",
    "dataset = shuffle(dataset)\n",
    "x = dataset[:,:784]\n",
    "y = dataset[:,784:]"
   ]
  },
  {
   "cell_type": "code",
   "execution_count": 116,
   "metadata": {},
   "outputs": [],
   "source": [
    "x = x.reshape(x.shape[0],28,28,1)\n",
    "\n",
    "#Getting Train,Validate and Test dataset\n",
    "from sklearn.model_selection import train_test_split\n",
    "x_train,x_test,y_train,y_test = train_test_split(x,y,test_size=0.3)\n",
    "\n",
    "from sklearn.model_selection import train_test_split\n",
    "x_validate,x_test,y_validate,y_test = train_test_split(x_test,y_test,test_size=0.5)"
   ]
  },
  {
   "cell_type": "code",
   "execution_count": 119,
   "metadata": {},
   "outputs": [
    {
     "name": "stdout",
     "output_type": "stream",
     "text": [
      "(147000, 28, 28, 1)\n",
      "(147000, 10)\n",
      "(31500, 28, 28, 1)\n",
      "(31500, 10)\n",
      "(31500, 28, 28, 1)\n",
      "(31500, 10)\n"
     ]
    }
   ],
   "source": [
    "print(x_train.shape)\n",
    "print(y_train.shape)\n",
    "print(x_test.shape)\n",
    "print(y_test.shape)\n",
    "print(x_validate.shape)\n",
    "print(y_validate.shape)"
   ]
  },
  {
   "cell_type": "code",
   "execution_count": 121,
   "metadata": {},
   "outputs": [],
   "source": [
    "#Saving Dataset as npz file for training\n",
    "\n",
    "np.savez(\"Dataset/train.npz\",Input = x_train, Output = y_train)\n",
    "np.savez(\"Dataset/validate.npz\",Input = x_validate, Output = y_validate)\n",
    "np.savez(\"Dataset/test.npz\",Input = x_test, Output = y_test)"
   ]
  },
  {
   "cell_type": "code",
   "execution_count": null,
   "metadata": {},
   "outputs": [],
   "source": []
  },
  {
   "cell_type": "code",
   "execution_count": null,
   "metadata": {},
   "outputs": [],
   "source": []
  }
 ],
 "metadata": {
  "kernelspec": {
   "display_name": "Python 3",
   "language": "python",
   "name": "python3"
  },
  "language_info": {
   "codemirror_mode": {
    "name": "ipython",
    "version": 3
   },
   "file_extension": ".py",
   "mimetype": "text/x-python",
   "name": "python",
   "nbconvert_exporter": "python",
   "pygments_lexer": "ipython3",
   "version": "3.5.6"
  }
 },
 "nbformat": 4,
 "nbformat_minor": 2
}
